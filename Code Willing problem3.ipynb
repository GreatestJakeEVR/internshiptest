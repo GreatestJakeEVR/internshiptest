{
 "cells": [
  {
   "cell_type": "markdown",
   "metadata": {},
   "source": [
    "Jake Ardoin\n",
    "5/1/2020"
   ]
  },
  {
   "cell_type": "markdown",
   "metadata": {},
   "source": [
    "1. Generate 2 lists of numbers, A and B. List A should have 10 randomly generated values\n",
    "such that each value is unique and none greater than the number of values in B. List B\n",
    "should have 100 randomly generated values that range between 1 and 100.\n",
    "2. Find all of the A[i] ranked smallest distance pairs among all possible pairs that can be\n",
    "made from list B.\n",
    "3. Try to do this in the fewest number of steps possible."
   ]
  },
  {
   "cell_type": "code",
   "execution_count": 1,
   "metadata": {},
   "outputs": [],
   "source": [
    "from random import *"
   ]
  },
  {
   "cell_type": "code",
   "execution_count": 2,
   "metadata": {},
   "outputs": [
    {
     "name": "stdout",
     "output_type": "stream",
     "text": [
      "a = [99, 80, 27, 25, 45, 26, 55, 16, 17, 38]\n",
      "\n",
      "b = [94, 21, 18, 30, 15, 17, 14, 54, 95, 7, 61, 76, 18, 41, 91, 75, 45, 15, 67, 28, 18, 66, 23, 12, 56, 46, 69, 14, 47, 9, 82, 1, 27, 29, 69, 78, 48, 41, 81, 15, 44, 80, 40, 71, 94, 58, 64, 33, 71, 23, 67, 16, 27, 28, 26, 7, 30, 43, 73, 52, 83, 66, 89, 7, 50, 90, 78, 98, 33, 11, 40, 43, 15, 76, 25, 36, 92, 13, 24, 61, 40, 78, 45, 52, 59, 41, 20, 59, 92, 82, 68, 69, 55, 75, 27, 33, 36, 22, 34, 63]\n",
      "\n"
     ]
    }
   ],
   "source": [
    "a = []\n",
    "for x in range(10):\n",
    "    y = randint(1,100)\n",
    "    while y in a:\n",
    "        y=randint(1,100)\n",
    "    a.append(y)\n",
    "b = [randint(1,101) for x in range(100)]\n",
    "print(f'a = {a}\\n')\n",
    "print(f'b = {b}\\n')"
   ]
  },
  {
   "cell_type": "code",
   "execution_count": 3,
   "metadata": {},
   "outputs": [
    {
     "name": "stdout",
     "output_type": "stream",
     "text": [
      "b[i] and b[j] are the two values whose absolute value is the a[i] ranked smallest distance pair.\n",
      "dist is absolute value\n",
      "The smallest distance pairs for each a[i] are:\n",
      "\n",
      "a[i] = xx    b[i] = xxx     b[j] = xxx     dist = xx\n",
      "-------------------------------------------------------\n",
      "a[0] = 99    b[30] = 82      b[60] = 83     dist = 1\n",
      "a[1] = 80    b[18] = 67      b[90] = 68     dist = 1\n",
      "a[2] = 27    b[32] = 27      b[94] = 27     dist = 0\n",
      "a[3] = 25    b[30] = 82      b[89] = 82     dist = 0\n",
      "a[4] = 45    b[75] = 36      b[96] = 36     dist = 0\n",
      "a[5] = 26    b[32] = 27      b[52] = 27     dist = 0\n",
      "a[6] = 55    b[4] = 15      b[51] = 16     dist = 1\n",
      "a[7] = 16    b[16] = 45      b[82] = 45     dist = 0\n",
      "a[8] = 17    b[17] = 15      b[39] = 15     dist = 0\n",
      "a[9] = 38    b[52] = 27      b[94] = 27     dist = 0\n"
     ]
    }
   ],
   "source": [
    "small_dist_pairs = []\n",
    "i = 0\n",
    "j = 1\n",
    "while i < 99:\n",
    "    while j < 100:\n",
    "        x = [i, j, abs(b[i]-b[j])]\n",
    "        small_dist_pairs.append(x)\n",
    "        j += 1\n",
    "    i += 1\n",
    "    j = i+1\n",
    "small_dist_pairs.sort(key = lambda small_dist_pairs: small_dist_pairs[2])\n",
    "print('b[i] and b[j] are the two values whose absolute value is the a[i] ranked smallest distance pair.\\n'\n",
    "      'dist is absolute value')\n",
    "print(\"The smallest distance pairs for each a[i] are:\\n\")\n",
    "print(f'a[i] = xx    b[i] = xxx     b[j] = xxx     dist = xx')\n",
    "print('-------------------------------------------------------')\n",
    "for x in range(len(a)):\n",
    "    bi = small_dist_pairs[a[x]][0]\n",
    "    bj = small_dist_pairs[a[x]][1]\n",
    "    dist = small_dist_pairs[a[x]][2]\n",
    "    print(f'a[{x}] = {a[x]}    b[{bi}] = {b[bi]}      b[{bj}] = {b[bj]}     dist = {dist}')"
   ]
  },
  {
   "cell_type": "code",
   "execution_count": null,
   "metadata": {},
   "outputs": [],
   "source": []
  }
 ],
 "metadata": {
  "kernelspec": {
   "display_name": "Python 3",
   "language": "python",
   "name": "python3"
  },
  "language_info": {
   "codemirror_mode": {
    "name": "ipython",
    "version": 3
   },
   "file_extension": ".py",
   "mimetype": "text/x-python",
   "name": "python",
   "nbconvert_exporter": "python",
   "pygments_lexer": "ipython3",
   "version": "3.7.6"
  }
 },
 "nbformat": 4,
 "nbformat_minor": 4
}
