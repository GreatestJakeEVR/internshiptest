{
 "cells": [
  {
   "cell_type": "markdown",
   "metadata": {},
   "source": [
    "Jake Ardoin\n",
    "4/30/2020"
   ]
  },
  {
   "cell_type": "code",
   "execution_count": 1,
   "metadata": {},
   "outputs": [],
   "source": [
    "import numpy as np\n",
    "import pandas as pd\n",
    "import timeit\n",
    "import time"
   ]
  },
  {
   "cell_type": "code",
   "execution_count": 2,
   "metadata": {},
   "outputs": [
    {
     "data": {
      "text/plain": [
       "1588472283.5661833"
      ]
     },
     "execution_count": 2,
     "metadata": {},
     "output_type": "execute_result"
    }
   ],
   "source": [
    "time.time()"
   ]
  },
  {
   "cell_type": "code",
   "execution_count": 3,
   "metadata": {},
   "outputs": [
    {
     "name": "stdout",
     "output_type": "stream",
     "text": [
      "[[5388324 4133096 8255716 ... 6622029 7132385 9883739]\n",
      " [4447912 6428829 4554372 ... 8700519 7890885 6125881]]\n"
     ]
    }
   ],
   "source": [
    "#Problem 1.1\n",
    "np.random.seed(int(time.time()))\n",
    "dataa = np.random.randint(1,10000000,1000000)\n",
    "datab = np.random.randint(1,10000000,1000000)\n",
    "my_data = np.array([dataa,datab])\n",
    "print(my_data)"
   ]
  },
  {
   "cell_type": "code",
   "execution_count": 4,
   "metadata": {},
   "outputs": [],
   "source": [
    "#Problem 1.2\n",
    "np.savetxt('generated.csv', my_data ,fmt='%d', delimiter=',')"
   ]
  },
  {
   "cell_type": "code",
   "execution_count": 5,
   "metadata": {},
   "outputs": [],
   "source": [
    "#Problem 1.3-1.5\n",
    "\n",
    "\n",
    "class MyClass:\n",
    "\n",
    "    #stores the results\n",
    "    r = None\n",
    "    a = None\n",
    "    b = None\n",
    "\n",
    "    def __init__(self):\n",
    "        ar = np.loadtxt('generated.csv', dtype = np.int, delimiter=',')\n",
    "        self.a = ar[0]\n",
    "        self.b = ar[1]\n",
    "\n",
    "    #merges any two columns, a, b, or r\n",
    "    #param x: 'a', 'b' or 'r'\n",
    "    #param y: 'a', 'b' or 'r'\n",
    "    def merge(self, x, y):\n",
    "        if x == y:\n",
    "            return print(\"The x and y parameters cannot be the same\")\n",
    "\n",
    "        if x == 'a':\n",
    "            x = self.a\n",
    "        elif x == 'b':\n",
    "            x = self.b\n",
    "        elif x == 'r':\n",
    "            x = self.r\n",
    "        else:\n",
    "            return print(\"The x parameter must be either \\'a\\', \\'b\\', or \\'r\\'\")\n",
    "\n",
    "        if y == 'a':\n",
    "            y=self.a\n",
    "        elif y=='b':\n",
    "            y=self.b\n",
    "        elif y == 'r':\n",
    "            y = self.r\n",
    "        else:\n",
    "            return print(\"The y parameter must be either \\'a\\', \\'b\\', or \\'r\\'\")\n",
    "\n",
    "        d = np.concatenate((x,y), axis=None)\n",
    "        self.r = np.array(d)\n",
    "\n",
    "    #sorts either a, b, or r in place.\n",
    "    #param x == 'a', 'b' or 'r'\n",
    "    def sortInPlace(self, x):\n",
    "        if x == 'a':\n",
    "            self.a = np.sort(self.a)\n",
    "        elif x == 'b':\n",
    "            self.b = np.sort(self.b)\n",
    "        elif x== 'r':\n",
    "            self.r = np.sort(self.b)\n",
    "        else:\n",
    "            return print(\"The x parameter must be either \\'a\\', \\'b\\', or \\'r\\'\")\n",
    "\n",
    "    #find the unique values in a, b, or r and store in r\n",
    "    #param x == 'a', 'b' or 'r'\n",
    "    def getUnique(self, x):\n",
    "        if x == 'a':\n",
    "            x = self.a\n",
    "        elif x == 'b':\n",
    "            x = self.b\n",
    "        elif x == 'r':\n",
    "            x = self.r\n",
    "        else:\n",
    "            return print(\"The x parameter must be either \\'a\\', \\'b\\', or \\'r\\'\")\n",
    "        self.r = np.unique(x)\n",
    "\n",
    "    #find set intersection of a and b then save results in r\n",
    "    def intersectAB(self):\n",
    "        self.r = np.intersect1d(self.a,self.b)\n",
    "\n",
    "    #find the set difference of a and b and save the results in r\n",
    "    def differenceAB(self):\n",
    "        self.r = np.setdiff1d(self.a,self.b)\n",
    "\n",
    "    #write the data a, b, and r to a csv\n",
    "    #param fileName: filename to save to\n",
    "    def dataToCSV(self, fileName):\n",
    "        data = np.array([self.a,self.b,self.r])\n",
    "        frame = pd.DataFrame(data)\n",
    "        frame.to_csv(fileName, index=False)\n",
    "\n",
    "    #counts the number of elements in x and prints the number\n",
    "    #param x == 'a', 'b', or 'r'\n",
    "    def printCount(self,x):\n",
    "        if x == 'a':\n",
    "            x = self.a\n",
    "        elif x == 'b':\n",
    "            x = self.b\n",
    "        elif x == 'r':\n",
    "            x = self.r\n",
    "        else:\n",
    "            return print(\"The x parameter must be either \\'a\\', \\'b\\', or \\'r\\'\")\n",
    "        print(len(x))"
   ]
  },
  {
   "cell_type": "code",
   "execution_count": 6,
   "metadata": {
    "scrolled": false
   },
   "outputs": [
    {
     "name": "stdout",
     "output_type": "stream",
     "text": [
      "after merge: [5388324 4133096 8255716 ... 8700519 7890885 6125881] \n",
      " size =2000000 \n",
      "\n",
      "after ainplace: [      8      21      26 ... 9999983 9999985 9999990]\n",
      " size =2000000 \n",
      "\n",
      "after bunique: [     22      23      29 ... 9999954 9999955 9999959]\n",
      " size =951425 \n",
      "\n",
      "after intersectAB: [     29      85     157 ... 9999418 9999726 9999819]\n",
      " size =90415 \n",
      "\n",
      "after diffAB: [      8      21      26 ... 9999983 9999985 9999990]\n",
      " size =861076 \n",
      "\n",
      "0\n",
      "\n",
      "[      8      21      26 ... 9999983 9999985 9999990]\n",
      "\n",
      "[4447912 6428829 4554372 ... 8700519 7890885 6125881]\n",
      "\n",
      "[      8      21      26 ... 9999983 9999985 9999990]\n",
      "\n",
      "861076\n"
     ]
    }
   ],
   "source": [
    "#to show it works\n",
    "c = MyClass()\n",
    "c.merge('a','b')\n",
    "print(f'after merge: {c.r} \\n size ={len(c.r)} \\n')\n",
    "c.sortInPlace('a')\n",
    "print(f'after ainplace: {c.a}\\n size ={len(c.r)} \\n')\n",
    "c.getUnique('b')\n",
    "print(f'after bunique: {c.r}\\n size ={len(c.r)} \\n')\n",
    "c.intersectAB()\n",
    "print(f'after intersectAB: {c.r}\\n size ={len(c.r)} \\n')\n",
    "c.differenceAB()\n",
    "print(f'after diffAB: {c.r}\\n size ={len(c.r)} \\n')\n",
    "c.dataToCSV('coutput.csv')\n",
    "with open('coutput.csv', 'r') as file:\n",
    "    for x in file:\n",
    "        print(x)\n",
    "r = c.printCount('r')\n",
    "\n"
   ]
  },
  {
   "cell_type": "code",
   "execution_count": 7,
   "metadata": {},
   "outputs": [],
   "source": [
    "#Problem 1.6\n",
    "\n",
    "def procedure():\n",
    "    my_class = MyClass()\n",
    "    my_class.merge('a','b')\n",
    "    my_class.getUnique('r')\n",
    "    print(f'The unique values in the merged data are: {my_class.r}\\n')\n",
    "    print(f'The number of unique values: {len(my_class.r)}\\n')\n",
    "    my_class.differenceAB()\n",
    "    print(f'The set difference is: {my_class.r}\\n')\n",
    "    print(f'The number of items in the set difference is: {len(my_class.r)}\\n')\n",
    "    my_class.intersectAB()\n",
    "    print(f'The intersection of A and B is: {my_class.r}\\n')\n",
    "    print(f'The number of values in the intersection is: {len(my_class.r)}\\n')"
   ]
  },
  {
   "cell_type": "code",
   "execution_count": 8,
   "metadata": {},
   "outputs": [
    {
     "name": "stdout",
     "output_type": "stream",
     "text": [
      "The unique values in the merged data are: [      8      21      22 ... 9999983 9999985 9999990]\n",
      "\n",
      "The number of unique values: 1812501\n",
      "\n",
      "The set difference is: [      8      21      26 ... 9999983 9999985 9999990]\n",
      "\n",
      "The number of items in the set difference is: 861076\n",
      "\n",
      "The intersection of A and B is: [     29      85     157 ... 9999418 9999726 9999819]\n",
      "\n",
      "The number of values in the intersection is: 90415\n",
      "\n"
     ]
    }
   ],
   "source": [
    "procedure()"
   ]
  },
  {
   "cell_type": "code",
   "execution_count": 9,
   "metadata": {},
   "outputs": [
    {
     "name": "stdout",
     "output_type": "stream",
     "text": [
      "Merge function takes 0.027238022001256468s \n",
      "\n",
      "Sort function takes 0.8353879149981367s \n",
      "\n",
      "Unique function takes 0.10923791999812238s \n",
      "\n",
      "Intersect functions takes 3.1620034070001566s \n",
      "\n",
      "Difference functions takes 1.9960583780011802s \n",
      "\n",
      "DatatoCSV functions takes 0.008423343999311328s \n",
      "\n",
      "861076\n",
      "861076\n",
      "861076\n",
      "861076\n",
      "861076\n",
      "861076\n",
      "861076\n",
      "861076\n",
      "861076\n",
      "861076\n",
      "PrintCount functions takes 0.00020091799888177775s \n",
      "\n"
     ]
    }
   ],
   "source": [
    "#Problem 1.7\n",
    "def wrapper(func, *args, **kwargs):\n",
    "    def wrapped():\n",
    "        return func(*args, **kwargs)\n",
    "    return wrapped\n",
    "\n",
    "my_class = MyClass()\n",
    "wrapped = wrapper(my_class.merge, 'a','b')\n",
    "print(f'Merge function takes {timeit.timeit(wrapped, number=10)}s \\n')\n",
    "wrapped = wrapper(my_class.sortInPlace, 'r')\n",
    "print(f'Sort function takes {timeit.timeit(wrapped, number=10)}s \\n')\n",
    "wrapped = wrapper(my_class.getUnique, 'r')\n",
    "print(f'Unique function takes {timeit.timeit(wrapped, number=10)}s \\n')\n",
    "wrapped = wrapper(my_class.intersectAB)\n",
    "print(f'Intersect functions takes {timeit.timeit(wrapped, number=10)}s \\n')\n",
    "wrapped = wrapper(my_class.differenceAB)\n",
    "print(f'Difference functions takes {timeit.timeit(wrapped, number=10)}s \\n')\n",
    "wrapped = wrapper(my_class.dataToCSV, 'outputfile.csv')\n",
    "print(f'DatatoCSV functions takes {timeit.timeit(wrapped, number=10)}s \\n')\n",
    "wrapped = wrapper(my_class.printCount, 'r')\n",
    "print(f'PrintCount functions takes {timeit.timeit(wrapped, number=10)}s \\n')"
   ]
  },
  {
   "cell_type": "code",
   "execution_count": 10,
   "metadata": {},
   "outputs": [
    {
     "name": "stdout",
     "output_type": "stream",
     "text": [
      "The unique values in the merged data are: [      8      21      22 ... 9999983 9999985 9999990]\n",
      "\n",
      "The number of unique values: 1812501\n",
      "\n",
      "The set difference is: [      8      21      26 ... 9999983 9999985 9999990]\n",
      "\n",
      "The number of items in the set difference is: 861076\n",
      "\n",
      "The intersection of A and B is: [     29      85     157 ... 9999418 9999726 9999819]\n",
      "\n",
      "The number of values in the intersection is: 90415\n",
      "\n",
      "The unique values in the merged data are: [      8      21      22 ... 9999983 9999985 9999990]\n",
      "\n",
      "The number of unique values: 1812501\n",
      "\n",
      "The set difference is: [      8      21      26 ... 9999983 9999985 9999990]\n",
      "\n",
      "The number of items in the set difference is: 861076\n",
      "\n",
      "The intersection of A and B is: [     29      85     157 ... 9999418 9999726 9999819]\n",
      "\n",
      "The number of values in the intersection is: 90415\n",
      "\n",
      "The unique values in the merged data are: [      8      21      22 ... 9999983 9999985 9999990]\n",
      "\n",
      "The number of unique values: 1812501\n",
      "\n",
      "The set difference is: [      8      21      26 ... 9999983 9999985 9999990]\n",
      "\n",
      "The number of items in the set difference is: 861076\n",
      "\n",
      "The intersection of A and B is: [     29      85     157 ... 9999418 9999726 9999819]\n",
      "\n",
      "The number of values in the intersection is: 90415\n",
      "\n",
      "*******The procedue time is 7.9458191270023235s**********\n",
      "\n"
     ]
    }
   ],
   "source": [
    "#Problem 1.8\n",
    "print(f'*******The procedue time is {timeit.timeit(procedure, number=3)}s**********\\n')"
   ]
  },
  {
   "cell_type": "raw",
   "metadata": {},
   "source": [
    "#Problem 1.9\n",
    "Didn't see this until the end but I'm sure there are some ways to calculate these using probability theory. I'm assuming by unique you mean distinct, which so if a number is chosen twice it still counts as a unique item since thats what the program does. So..\n",
    "a) If by unique we mean that no matter how many occurances of a number there are, we count it as 1 unique value, then with X = # of unique values, Xi = a specific number. Xi =1 means that number did occur.\n",
    "We have E[X] = Σn,i(1*P(Xi = 1)) = Σn,i(1-P(Xi=0)). So with N number of items selected out  M item choices we end up with \n",
    "Σn,i (1 - ((M-1)/M)^N) = sum of the probability of each individual number being chosen\n",
    "I'm not sure where to go past here since I can't calculate that large of a number. Looking it up if it was M items selected from M choices with replacement it ends up being about 65% of choices are unique. So more than that since there are more possible item choices. \n",
    "\n",
    "b) This is going to be a pretty high number also since theres 10x the choices as there are numbers selected. It looks to be around 850,000 numbers in the set difference though from looking at the result.\n",
    "\n",
    "c) Like b, I'm not really sure how I'd calculate the expected value of this one either. But its kind of the opposite of the set difference in that I'd expect this one to be a small number. Looking at the answer I got it seems to be around 10% or 100k\n",
    "\n",
    "\n"
   ]
  }
 ],
 "metadata": {
  "kernelspec": {
   "display_name": "Python 3",
   "language": "python",
   "name": "python3"
  },
  "language_info": {
   "codemirror_mode": {
    "name": "ipython",
    "version": 3
   },
   "file_extension": ".py",
   "mimetype": "text/x-python",
   "name": "python",
   "nbconvert_exporter": "python",
   "pygments_lexer": "ipython3",
   "version": "3.7.6"
  }
 },
 "nbformat": 4,
 "nbformat_minor": 4
}
